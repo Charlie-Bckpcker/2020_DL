{
 "cells": [
  {
   "cell_type": "code",
   "execution_count": 1,
   "metadata": {},
   "outputs": [],
   "source": [
    "%matplotlib inline\n",
    "import numpy as np\n",
    "import matplotlib.pyplot as plt"
   ]
  },
  {
   "cell_type": "code",
   "execution_count": 2,
   "metadata": {},
   "outputs": [],
   "source": [
    "from tensorflow.keras.datasets import fashion_mnist"
   ]
  },
  {
   "cell_type": "code",
   "execution_count": 3,
   "metadata": {},
   "outputs": [],
   "source": [
    "(x_train, y_train), (x_test, y_test) = fashion_mnist.load_data()"
   ]
  },
  {
   "cell_type": "code",
   "execution_count": 4,
   "metadata": {},
   "outputs": [
    {
     "data": {
      "text/plain": [
       "60000"
      ]
     },
     "execution_count": 4,
     "metadata": {},
     "output_type": "execute_result"
    }
   ],
   "source": [
    "len(x_train)"
   ]
  },
  {
   "cell_type": "code",
   "execution_count": 5,
   "metadata": {},
   "outputs": [
    {
     "data": {
      "text/plain": [
       "10000"
      ]
     },
     "execution_count": 5,
     "metadata": {},
     "output_type": "execute_result"
    }
   ],
   "source": [
    "len(x_test)"
   ]
  },
  {
   "cell_type": "code",
   "execution_count": 6,
   "metadata": {},
   "outputs": [],
   "source": [
    "class_names = ['T-shirt/top', 'Trouser', 'Pullover', 'Dress', 'Coat',\n",
    "               'Sandal', 'Shirt', 'Sneaker', 'Bag', 'Ankle boot']"
   ]
  },
  {
   "cell_type": "code",
   "execution_count": 7,
   "metadata": {},
   "outputs": [
    {
     "data": {
      "text/plain": [
       "array([[  0,   0,   0,   0,   0,   0,   0,   0,   0,   0,   0,   0,   0,\n",
       "          0,   0,   0,   0,   0,   0,   0,   0,   0,   0,   0,   0,   0,\n",
       "          0,   0],\n",
       "       [  0,   0,   0,   0,   0,   0,   0,   0,   0,   0,   0,   0,   0,\n",
       "          0,   0,   0,   0,   0,   0,   0,   0,   0,   0,   0,   0,   0,\n",
       "          0,   0],\n",
       "       [  0,   0,   0,   0,   0,   0,   0,   0,   0,   0,   0,   0,   0,\n",
       "          0,   0,   0,   0,   0,   0,   0,   0,   0,   0,   0,   0,   0,\n",
       "          0,   0],\n",
       "       [  0,   0,   0,   0,   0,   0,   0,   0,   0,   0,   0,   0,   0,\n",
       "          0,   0,   0,   0,   0,   0,   0,   0,   0,   0,   0,   0,   0,\n",
       "          0,   0],\n",
       "       [  0,   0,   0,   0,   0,   0,   0,   0,   0,   0,   0,   0,   0,\n",
       "          0,   0,   0,   0,   0,   0,   0,   0,   0,   0,   0,   0,   0,\n",
       "          0,   0],\n",
       "       [  0,   0,   0,   0,   0,   0,   0,   0,   0,   0,   0,   0,   0,\n",
       "          0,   0,   0,   0,   0,   0,   0,   0,   0,   0,   0,   0,   0,\n",
       "          0,   0],\n",
       "       [  0,   0,   0,   0,   0,   0,   0,   0,   0,   0,   0,   0,   0,\n",
       "          0,   0,   0,   0,   0,   0,   0,   0,   0,   0,   0,   0,   0,\n",
       "          0,   0],\n",
       "       [  0,   0,   0,   0,   0,   0,   0,   0,   0,   0,   0,   0,   0,\n",
       "          0,   0,   0,   0,   0,   0,   0,   0,   0,   0,   0,   0,   0,\n",
       "          0,   0],\n",
       "       [  0,   0,   0,   0,   0,   0,   0,   0,   0,   0,   0,   2,   0,\n",
       "          0,   0,  25,  51,   0,   5,   0,   0,   0,   0,   0,   0,   0,\n",
       "          0,   0],\n",
       "       [  0,   0,   0,   0,   0,   0,   0,   0,   0,   0,   0,   0,   2,\n",
       "         72,  74, 115, 175,   7,   0,   7,   5,   0,   2,   0, 146, 110,\n",
       "          7,   0],\n",
       "       [  0,   0,   0,   0,   0,   0,   0,   0,   0,   0,   0,  54,  95,\n",
       "         92, 123,  77, 123,  72,  20,   0,   0,   0,   0,   0, 255, 136,\n",
       "         51,   0],\n",
       "       [  0,   0,   0,   0,   0,   0,   2,   0,   2,  38,  79,  97, 118,\n",
       "         90, 105, 121,  95, 115, 128,  59,  48,   5,   5,  64, 118, 103,\n",
       "         82,   0],\n",
       "       [  0,   0,   0,   0,   0,   5,   2,   0,  61, 121, 108,  92, 115,\n",
       "        162, 167, 162, 175, 133, 105, 113, 144, 133, 110, 133, 144, 146,\n",
       "        141,   2],\n",
       "       [  2,   0,   0,   0,   0,   0,   5,  36, 113, 103,  95, 118, 128,\n",
       "        126, 110, 108, 151, 182, 195, 167, 139, 136, 136, 115, 126, 108,\n",
       "        123,   2],\n",
       "       [  0,   0,   2,   0,   7,  33,  51,  85, 105, 123, 128,  92,  90,\n",
       "         79, 108, 133, 103, 121, 162, 170, 193, 206, 151, 126, 123, 123,\n",
       "        118,   5],\n",
       "       [  5,  33,  48,  59,  72,  74,  82,  82, 115, 123, 121, 118, 139,\n",
       "        115,  90, 133, 139, 136, 149, 164, 180, 170, 157, 170, 151, 139,\n",
       "        131,   2],\n",
       "       [ 61, 136, 113,  90,  95,  92, 100, 108, 103, 103, 113, 126, 133,\n",
       "        164, 170, 146, 157, 149, 115,  87,  72,  82, 110, 123, 128, 131,\n",
       "        100,   0],\n",
       "       [ 41,  79, 118, 159, 149, 139, 136, 131, 113, 110, 113, 118, 113,\n",
       "         79,  85,  43,  15,  25,  36,  38,  51,  59,  41,  41,  41,  36,\n",
       "         54,   0],\n",
       "       [ 46,  66,  30,  28,  28,  23,  28,  25,  23,  28,  30,  36,  38,\n",
       "         54,  56,  66,  92, 100,  97,  92,  82,  72,  77,  66,  69,  74,\n",
       "         85,  15],\n",
       "       [  0,  20,  54,  69,  72,  72,  79,  82,  79,  82,  79,  82,  82,\n",
       "         72,  82,  87,  74,  72,  74,  64,  54,  54,  56,  51,  56,  54,\n",
       "         51,   7],\n",
       "       [  0,   0,   0,   0,   0,   0,   0,   0,   0,   0,   0,   0,   0,\n",
       "          0,   0,   0,   0,   0,   0,   0,   0,   0,   0,   0,   0,   0,\n",
       "          0,   0],\n",
       "       [  0,   0,   0,   0,   0,   0,   0,   0,   0,   0,   0,   0,   0,\n",
       "          0,   0,   0,   0,   0,   0,   0,   0,   0,   0,   0,   0,   0,\n",
       "          0,   0],\n",
       "       [  0,   0,   0,   0,   0,   0,   0,   0,   0,   0,   0,   0,   0,\n",
       "          0,   0,   0,   0,   0,   0,   0,   0,   0,   0,   0,   0,   0,\n",
       "          0,   0],\n",
       "       [  0,   0,   0,   0,   0,   0,   0,   0,   0,   0,   0,   0,   0,\n",
       "          0,   0,   0,   0,   0,   0,   0,   0,   0,   0,   0,   0,   0,\n",
       "          0,   0],\n",
       "       [  0,   0,   0,   0,   0,   0,   0,   0,   0,   0,   0,   0,   0,\n",
       "          0,   0,   0,   0,   0,   0,   0,   0,   0,   0,   0,   0,   0,\n",
       "          0,   0],\n",
       "       [  0,   0,   0,   0,   0,   0,   0,   0,   0,   0,   0,   0,   0,\n",
       "          0,   0,   0,   0,   0,   0,   0,   0,   0,   0,   0,   0,   0,\n",
       "          0,   0],\n",
       "       [  0,   0,   0,   0,   0,   0,   0,   0,   0,   0,   0,   0,   0,\n",
       "          0,   0,   0,   0,   0,   0,   0,   0,   0,   0,   0,   0,   0,\n",
       "          0,   0],\n",
       "       [  0,   0,   0,   0,   0,   0,   0,   0,   0,   0,   0,   0,   0,\n",
       "          0,   0,   0,   0,   0,   0,   0,   0,   0,   0,   0,   0,   0,\n",
       "          0,   0]], dtype=uint8)"
      ]
     },
     "execution_count": 7,
     "metadata": {},
     "output_type": "execute_result"
    }
   ],
   "source": [
    "n = 666\n",
    "x_train[n]"
   ]
  },
  {
   "cell_type": "code",
   "execution_count": 8,
   "metadata": {},
   "outputs": [
    {
     "data": {
      "text/plain": [
       "7"
      ]
     },
     "execution_count": 8,
     "metadata": {},
     "output_type": "execute_result"
    }
   ],
   "source": [
    "y_train[n]"
   ]
  },
  {
   "cell_type": "code",
   "execution_count": 9,
   "metadata": {},
   "outputs": [
    {
     "data": {
      "text/plain": [
       "<matplotlib.image.AxesImage at 0x29245035198>"
      ]
     },
     "execution_count": 9,
     "metadata": {},
     "output_type": "execute_result"
    },
    {
     "data": {
      "image/png": "[encoded data removed]",
      "text/plain": [
       "<Figure size 432x288 with 1 Axes>"
      ]
     },
     "metadata": {
      "needs_background": "light"
     },
     "output_type": "display_data"
    }
   ],
   "source": [
    "plt.imshow(x_train[n], cmap=\"Greys\")"
   ]
  },
  {
   "cell_type": "code",
   "execution_count": 10,
   "metadata": {},
   "outputs": [
    {
     "data": {
      "text/plain": [
       "'Sneaker'"
      ]
     },
     "execution_count": 10,
     "metadata": {},
     "output_type": "execute_result"
    }
   ],
   "source": [
    "class_names[y_train[n]]"
   ]
  },
  {
   "cell_type": "markdown",
   "metadata": {},
   "source": [
    "### 處理資料"
   ]
  },
  {
   "cell_type": "code",
   "execution_count": 11,
   "metadata": {},
   "outputs": [],
   "source": [
    "x_train = x_train/255\n",
    "x_test = x_test/255"
   ]
  },
  {
   "cell_type": "code",
   "execution_count": 12,
   "metadata": {},
   "outputs": [
    {
     "data": {
      "text/plain": [
       "(60000, 28, 28)"
      ]
     },
     "execution_count": 12,
     "metadata": {},
     "output_type": "execute_result"
    }
   ],
   "source": [
    "x_train.shape"
   ]
  },
  {
   "cell_type": "code",
   "execution_count": 13,
   "metadata": {},
   "outputs": [],
   "source": [
    "x_train=x_train.reshape(60000,784)\n",
    "x_test=x_test.reshape(10000,784)"
   ]
  },
  {
   "cell_type": "code",
   "execution_count": 14,
   "metadata": {},
   "outputs": [],
   "source": [
    "from tensorflow.keras.utils import to_categorical\n",
    "y_train = to_categorical(y_train, 10)\n",
    "y_test = to_categorical(y_test, 10)"
   ]
  },
  {
   "cell_type": "code",
   "execution_count": 15,
   "metadata": {},
   "outputs": [
    {
     "data": {
      "text/plain": [
       "array([0., 0., 0., 0., 0., 0., 0., 1., 0., 0.], dtype=float32)"
      ]
     },
     "execution_count": 15,
     "metadata": {},
     "output_type": "execute_result"
    }
   ],
   "source": [
    "y_train[n]"
   ]
  },
  {
   "cell_type": "markdown",
   "metadata": {},
   "source": [
    "## 打造NN"
   ]
  },
  {
   "cell_type": "code",
   "execution_count": 16,
   "metadata": {},
   "outputs": [],
   "source": [
    "from tensorflow.keras.models import Sequential\n",
    "from tensorflow.keras.layers import Dense\n",
    "from tensorflow.keras.optimizers import SGD"
   ]
  },
  {
   "cell_type": "code",
   "execution_count": 17,
   "metadata": {},
   "outputs": [],
   "source": [
    "model = Sequential()"
   ]
  },
  {
   "cell_type": "code",
   "execution_count": 18,
   "metadata": {},
   "outputs": [],
   "source": [
    "#layer1\n",
    "model.add(Dense(100, input_dim = 784, activation = 'relu'))"
   ]
  },
  {
   "cell_type": "code",
   "execution_count": 19,
   "metadata": {},
   "outputs": [],
   "source": [
    "#layer2\n",
    "model.add(Dense(99, activation = 'relu'))"
   ]
  },
  {
   "cell_type": "code",
   "execution_count": 20,
   "metadata": {},
   "outputs": [],
   "source": [
    "#layer3\n",
    "model.add(Dense(98, activation = 'relu'))"
   ]
  },
  {
   "cell_type": "code",
   "execution_count": 21,
   "metadata": {},
   "outputs": [],
   "source": [
    "#輸出層\n",
    "model.add(Dense(10,activation='softmax'))"
   ]
  },
  {
   "cell_type": "code",
   "execution_count": 22,
   "metadata": {},
   "outputs": [],
   "source": [
    "# softmax=> a+b+c=1, 維持a,b,c 大小\n",
    "#處理函數-> a= exp{a}/exp{a}+exp{b}+exp{c}, b = exp{b}/ ...."
   ]
  },
  {
   "cell_type": "markdown",
   "metadata": {},
   "source": [
    "###  組裝我們的神經網路"
   ]
  },
  {
   "cell_type": "code",
   "execution_count": 23,
   "metadata": {},
   "outputs": [],
   "source": [
    "model.compile(loss = 'mse', optimizer= SGD(lr=0.087), metrics = ['accuracy'])"
   ]
  },
  {
   "cell_type": "code",
   "execution_count": 24,
   "metadata": {},
   "outputs": [
    {
     "name": "stdout",
     "output_type": "stream",
     "text": [
      "Model: \"sequential\"\n",
      "_________________________________________________________________\n",
      "Layer (type)                 Output Shape              Param #   \n",
      "=================================================================\n",
      "dense (Dense)                (None, 100)               78500     \n",
      "_________________________________________________________________\n",
      "dense_1 (Dense)              (None, 99)                9999      \n",
      "_________________________________________________________________\n",
      "dense_2 (Dense)              (None, 98)                9800      \n",
      "_________________________________________________________________\n",
      "dense_3 (Dense)              (None, 10)                990       \n",
      "=================================================================\n",
      "Total params: 99,289\n",
      "Trainable params: 99,289\n",
      "Non-trainable params: 0\n",
      "_________________________________________________________________\n"
     ]
    }
   ],
   "source": [
    "model.summary()\n",
    "#784*100(neurons)+100(bias)= 78500"
   ]
  },
  {
   "cell_type": "markdown",
   "metadata": {},
   "source": [
    "### 訓練"
   ]
  },
  {
   "cell_type": "code",
   "execution_count": 28,
   "metadata": {},
   "outputs": [
    {
     "name": "stdout",
     "output_type": "stream",
     "text": [
      "Train on 60000 samples\n",
      "Epoch 1/80\n",
      "60000/60000 [==============================] - 4s 63us/sample - loss: 0.0159 - accuracy: 0.8939\n",
      "Epoch 2/80\n",
      "60000/60000 [==============================] - 4s 62us/sample - loss: 0.0159 - accuracy: 0.8940\n",
      "Epoch 3/80\n",
      "60000/60000 [==============================] - 4s 59us/sample - loss: 0.0158 - accuracy: 0.8949\n",
      "Epoch 4/80\n",
      "60000/60000 [==============================] - 4s 58us/sample - loss: 0.0156 - accuracy: 0.8964\n",
      "Epoch 5/80\n",
      "60000/60000 [==============================] - 4s 67us/sample - loss: 0.0155 - accuracy: 0.8970\n",
      "Epoch 6/80\n",
      "60000/60000 [==============================] - 4s 65us/sample - loss: 0.0153 - accuracy: 0.8984\n",
      "Epoch 7/80\n",
      "60000/60000 [==============================] - 4s 68us/sample - loss: 0.0152 - accuracy: 0.8982\n",
      "Epoch 8/80\n",
      "60000/60000 [==============================] - 4s 63us/sample - loss: 0.0150 - accuracy: 0.9005\n",
      "Epoch 9/80\n",
      "60000/60000 [==============================] - 4s 71us/sample - loss: 0.0150 - accuracy: 0.9013\n",
      "Epoch 10/80\n",
      "60000/60000 [==============================] - 4s 71us/sample - loss: 0.0149 - accuracy: 0.9014\n",
      "Epoch 11/80\n",
      "60000/60000 [==============================] - 4s 69us/sample - loss: 0.0148 - accuracy: 0.9019\n",
      "Epoch 12/80\n",
      "60000/60000 [==============================] - 4s 70us/sample - loss: 0.0147 - accuracy: 0.9024\n",
      "Epoch 13/80\n",
      "60000/60000 [==============================] - 4s 63us/sample - loss: 0.0146 - accuracy: 0.9031\n",
      "Epoch 14/80\n",
      "60000/60000 [==============================] - 3s 57us/sample - loss: 0.0145 - accuracy: 0.9043\n",
      "Epoch 15/80\n",
      "60000/60000 [==============================] - 4s 59us/sample - loss: 0.0145 - accuracy: 0.9047\n",
      "Epoch 16/80\n",
      "60000/60000 [==============================] - 4s 60us/sample - loss: 0.0143 - accuracy: 0.9059\n",
      "Epoch 17/80\n",
      "60000/60000 [==============================] - 4s 62us/sample - loss: 0.0142 - accuracy: 0.9065\n",
      "Epoch 18/80\n",
      "60000/60000 [==============================] - 4s 60us/sample - loss: 0.0141 - accuracy: 0.9075\n",
      "Epoch 19/80\n",
      "60000/60000 [==============================] - 4s 59us/sample - loss: 0.0141 - accuracy: 0.9077\n",
      "Epoch 20/80\n",
      "60000/60000 [==============================] - 4s 60us/sample - loss: 0.0140 - accuracy: 0.9084\n",
      "Epoch 21/80\n",
      "60000/60000 [==============================] - 4s 66us/sample - loss: 0.0139 - accuracy: 0.9085\n",
      "Epoch 22/80\n",
      "60000/60000 [==============================] - 4s 67us/sample - loss: 0.0138 - accuracy: 0.9092\n",
      "Epoch 23/80\n",
      "60000/60000 [==============================] - 4s 64us/sample - loss: 0.0137 - accuracy: 0.9103\n",
      "Epoch 24/80\n",
      "60000/60000 [==============================] - 4s 66us/sample - loss: 0.0136 - accuracy: 0.9112\n",
      "Epoch 25/80\n",
      "60000/60000 [==============================] - 4s 72us/sample - loss: 0.0136 - accuracy: 0.9118\n",
      "Epoch 26/80\n",
      "60000/60000 [==============================] - 4s 62us/sample - loss: 0.0135 - accuracy: 0.9116\n",
      "Epoch 27/80\n",
      "60000/60000 [==============================] - 3s 58us/sample - loss: 0.0134 - accuracy: 0.9128\n",
      "Epoch 28/80\n",
      "60000/60000 [==============================] - 4s 58us/sample - loss: 0.0133 - accuracy: 0.9134\n",
      "Epoch 29/80\n",
      "60000/60000 [==============================] - 3s 58us/sample - loss: 0.0132 - accuracy: 0.9140\n",
      "Epoch 30/80\n",
      "60000/60000 [==============================] - 4s 59us/sample - loss: 0.0131 - accuracy: 0.9149\n",
      "Epoch 31/80\n",
      "60000/60000 [==============================] - 4s 59us/sample - loss: 0.0131 - accuracy: 0.9146\n",
      "Epoch 32/80\n",
      "60000/60000 [==============================] - 4s 59us/sample - loss: 0.0130 - accuracy: 0.9151\n",
      "Epoch 33/80\n",
      "60000/60000 [==============================] - 4s 66us/sample - loss: 0.0129 - accuracy: 0.9158\n",
      "Epoch 34/80\n",
      "60000/60000 [==============================] - 4s 63us/sample - loss: 0.0129 - accuracy: 0.9162\n",
      "Epoch 35/80\n",
      "60000/60000 [==============================] - 4s 60us/sample - loss: 0.0128 - accuracy: 0.9169\n",
      "Epoch 36/80\n",
      "60000/60000 [==============================] - 4s 59us/sample - loss: 0.0127 - accuracy: 0.9178\n",
      "Epoch 37/80\n",
      "60000/60000 [==============================] - 4s 61us/sample - loss: 0.0127 - accuracy: 0.9177\n",
      "Epoch 38/80\n",
      "60000/60000 [==============================] - 4s 60us/sample - loss: 0.0126 - accuracy: 0.9187\n",
      "Epoch 39/80\n",
      "60000/60000 [==============================] - 4s 60us/sample - loss: 0.0125 - accuracy: 0.9195\n",
      "Epoch 40/80\n",
      "60000/60000 [==============================] - 3s 58us/sample - loss: 0.0124 - accuracy: 0.9206\n",
      "Epoch 41/80\n",
      "60000/60000 [==============================] - 4s 64us/sample - loss: 0.0124 - accuracy: 0.9204\n",
      "Epoch 42/80\n",
      "60000/60000 [==============================] - 4s 71us/sample - loss: 0.0123 - accuracy: 0.9208\n",
      "Epoch 43/80\n",
      "60000/60000 [==============================] - 4s 65us/sample - loss: 0.0123 - accuracy: 0.9209\n",
      "Epoch 44/80\n",
      "60000/60000 [==============================] - 4s 58us/sample - loss: 0.0121 - accuracy: 0.9221\n",
      "Epoch 45/80\n",
      "60000/60000 [==============================] - 4s 60us/sample - loss: 0.0121 - accuracy: 0.9218\n",
      "Epoch 46/80\n",
      "60000/60000 [==============================] - 4s 62us/sample - loss: 0.0120 - accuracy: 0.9228\n",
      "Epoch 47/80\n",
      "60000/60000 [==============================] - 4s 60us/sample - loss: 0.0120 - accuracy: 0.9228\n",
      "Epoch 48/80\n",
      "60000/60000 [==============================] - 4s 63us/sample - loss: 0.0119 - accuracy: 0.9225\n",
      "Epoch 49/80\n",
      "60000/60000 [==============================] - 4s 59us/sample - loss: 0.0118 - accuracy: 0.9247\n",
      "Epoch 50/80\n",
      "60000/60000 [==============================] - 3s 58us/sample - loss: 0.0117 - accuracy: 0.9258\n",
      "Epoch 51/80\n",
      "60000/60000 [==============================] - 4s 59us/sample - loss: 0.0117 - accuracy: 0.9258\n",
      "Epoch 52/80\n",
      "60000/60000 [==============================] - 3s 57us/sample - loss: 0.0116 - accuracy: 0.9264\n",
      "Epoch 53/80\n",
      "60000/60000 [==============================] - 3s 57us/sample - loss: 0.0115 - accuracy: 0.9268\n",
      "Epoch 54/80\n",
      "60000/60000 [==============================] - 3s 58us/sample - loss: 0.0115 - accuracy: 0.9273\n",
      "Epoch 55/80\n",
      "60000/60000 [==============================] - 3s 57us/sample - loss: 0.0115 - accuracy: 0.9269\n",
      "Epoch 56/80\n",
      "60000/60000 [==============================] - 3s 58us/sample - loss: 0.0113 - accuracy: 0.9284\n",
      "Epoch 57/80\n",
      "60000/60000 [==============================] - 3s 57us/sample - loss: 0.0113 - accuracy: 0.9275\n",
      "Epoch 58/80\n",
      "60000/60000 [==============================] - 3s 58us/sample - loss: 0.0112 - accuracy: 0.9290\n",
      "Epoch 59/80\n",
      "60000/60000 [==============================] - 4s 64us/sample - loss: 0.0112 - accuracy: 0.9287\n",
      "Epoch 60/80\n",
      "60000/60000 [==============================] - 4s 60us/sample - loss: 0.0111 - accuracy: 0.9298\n",
      "Epoch 61/80\n",
      "60000/60000 [==============================] - 4s 59us/sample - loss: 0.0111 - accuracy: 0.9291\n",
      "Epoch 62/80\n",
      "60000/60000 [==============================] - 4s 59us/sample - loss: 0.0110 - accuracy: 0.9310\n",
      "Epoch 63/80\n",
      "60000/60000 [==============================] - 4s 59us/sample - loss: 0.0110 - accuracy: 0.9300\n",
      "Epoch 64/80\n",
      "60000/60000 [==============================] - 4s 59us/sample - loss: 0.0108 - accuracy: 0.9328\n",
      "Epoch 65/80\n",
      "60000/60000 [==============================] - 4s 60us/sample - loss: 0.0108 - accuracy: 0.9323\n",
      "Epoch 66/80\n",
      "60000/60000 [==============================] - 4s 59us/sample - loss: 0.0108 - accuracy: 0.9319\n",
      "Epoch 67/80\n",
      "60000/60000 [==============================] - 4s 62us/sample - loss: 0.0107 - accuracy: 0.9323\n",
      "Epoch 68/80\n",
      "60000/60000 [==============================] - 4s 62us/sample - loss: 0.0106 - accuracy: 0.9330\n",
      "Epoch 69/80\n",
      "60000/60000 [==============================] - 4s 66us/sample - loss: 0.0106 - accuracy: 0.9343\n",
      "Epoch 70/80\n",
      "60000/60000 [==============================] - 4s 60us/sample - loss: 0.0105 - accuracy: 0.9344\n",
      "Epoch 71/80\n",
      "60000/60000 [==============================] - 3s 58us/sample - loss: 0.0105 - accuracy: 0.9344\n",
      "Epoch 72/80\n",
      "60000/60000 [==============================] - 3s 58us/sample - loss: 0.0104 - accuracy: 0.9347\n",
      "Epoch 73/80\n",
      "60000/60000 [==============================] - 4s 59us/sample - loss: 0.0104 - accuracy: 0.9352\n",
      "Epoch 74/80\n",
      "60000/60000 [==============================] - 4s 59us/sample - loss: 0.0104 - accuracy: 0.9351\n",
      "Epoch 75/80\n",
      "60000/60000 [==============================] - 4s 59us/sample - loss: 0.0103 - accuracy: 0.9350\n",
      "Epoch 76/80\n"
     ]
    },
    {
     "name": "stdout",
     "output_type": "stream",
     "text": [
      "60000/60000 [==============================] - 3s 57us/sample - loss: 0.0102 - accuracy: 0.9368\n",
      "Epoch 77/80\n",
      "60000/60000 [==============================] - 3s 57us/sample - loss: 0.0102 - accuracy: 0.9367\n",
      "Epoch 78/80\n",
      "60000/60000 [==============================] - 3s 57us/sample - loss: 0.0102 - accuracy: 0.9362\n",
      "Epoch 79/80\n",
      "60000/60000 [==============================] - 3s 57us/sample - loss: 0.0100 - accuracy: 0.9375\n",
      "Epoch 80/80\n",
      "60000/60000 [==============================] - 4s 61us/sample - loss: 0.0100 - accuracy: 0.9374\n"
     ]
    },
    {
     "data": {
      "text/plain": [
       "<tensorflow.python.keras.callbacks.History at 0x29260e3eac8>"
      ]
     },
     "execution_count": 28,
     "metadata": {},
     "output_type": "execute_result"
    }
   ],
   "source": [
    "#train80 times\n",
    "model.fit(x_train, y_train, batch_size = 50, epochs = 80)"
   ]
  },
  {
   "cell_type": "markdown",
   "metadata": {},
   "source": [
    "## Result"
   ]
  },
  {
   "cell_type": "code",
   "execution_count": 29,
   "metadata": {},
   "outputs": [],
   "source": [
    "result = model.predict_classes(x_test)"
   ]
  },
  {
   "cell_type": "code",
   "execution_count": 32,
   "metadata": {},
   "outputs": [
    {
     "name": "stdout",
     "output_type": "stream",
     "text": [
      "Prediction by NN is Dress\n"
     ]
    },
    {
     "data": {
      "text/plain": [
       "<matplotlib.image.AxesImage at 0x29261a707b8>"
      ]
     },
     "execution_count": 32,
     "metadata": {},
     "output_type": "execute_result"
    },
    {
     "data": {
      "image/png": "[encoded data removed]",
      "text/plain": [
       "<Figure size 432x288 with 1 Axes>"
      ]
     },
     "metadata": {
      "needs_background": "light"
     },
     "output_type": "display_data"
    }
   ],
   "source": [
    "print('Prediction by NN is', class_names[result[n]])\n",
    "plt.imshow(x_test[n].reshape(28,28), cmap = 'Greys')"
   ]
  },
  {
   "cell_type": "code",
   "execution_count": null,
   "metadata": {},
   "outputs": [],
   "source": []
  }
 ],
 "metadata": {
  "kernelspec": {
   "display_name": "Python 3",
   "language": "python",
   "name": "python3"
  },
  "language_info": {
   "codemirror_mode": {
    "name": "ipython",
    "version": 3
   },
   "file_extension": ".py",
   "mimetype": "text/x-python",
   "name": "python",
   "nbconvert_exporter": "python",
   "pygments_lexer": "ipython3",
   "version": "3.7.3"
  }
 },
 "nbformat": 4,
 "nbformat_minor": 2
}
