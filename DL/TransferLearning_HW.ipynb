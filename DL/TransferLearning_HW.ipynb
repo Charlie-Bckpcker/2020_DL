{
 "cells": [
  {
   "cell_type": "code",
   "execution_count": 1,
   "metadata": {},
   "outputs": [],
   "source": [
    "# Import some useful packages\n",
    "import matplotlib.pyplot as plt\n",
    "import numpy as np\n",
    "\n",
    "# Layers for FNN\n",
    "from tensorflow.keras.models import Sequential\n",
    "from tensorflow.keras.layers import Dense, Flatten\n",
    "\n",
    "# Layers for CNN\n",
    "from tensorflow.keras.layers import Conv2D, MaxPool2D, GlobalAveragePooling2D\n",
    "\n",
    "from tensorflow.keras.optimizers import SGD, Adam\n",
    "\n",
    "# For data preprocessing\n",
    "from tensorflow.keras.datasets import mnist, fashion_mnist\n",
    "from tensorflow.keras.utils import to_categorical"
   ]
  },
  {
   "cell_type": "markdown",
   "metadata": {},
   "source": [
    "## Data Preprocessing"
   ]
  },
  {
   "cell_type": "code",
   "execution_count": 2,
   "metadata": {},
   "outputs": [],
   "source": [
    "(x_train, y_train), (x_test, y_test) = mnist.load_data()"
   ]
  },
  {
   "cell_type": "code",
   "execution_count": 3,
   "metadata": {},
   "outputs": [
    {
     "data": {
      "text/plain": [
       "(60000, 28, 28)"
      ]
     },
     "execution_count": 3,
     "metadata": {},
     "output_type": "execute_result"
    }
   ],
   "source": [
    "x_train.shape"
   ]
  },
  {
   "cell_type": "code",
   "execution_count": 4,
   "metadata": {},
   "outputs": [],
   "source": [
    "# Normalization\n",
    "x_train = x_train / 255\n",
    "x_test = x_test / 255"
   ]
  },
  {
   "cell_type": "code",
   "execution_count": 5,
   "metadata": {},
   "outputs": [],
   "source": [
    "x_train = x_train.reshape(60000, 28, 28, 1)\n",
    "x_test = x_test.reshape(10000, 28, 28, 1)"
   ]
  },
  {
   "cell_type": "code",
   "execution_count": 6,
   "metadata": {},
   "outputs": [],
   "source": [
    "# One hot encoding\n",
    "y_train = to_categorical(y_train, 10)\n",
    "y_test = to_categorical(y_test, 10)"
   ]
  },
  {
   "cell_type": "code",
   "execution_count": 7,
   "metadata": {},
   "outputs": [
    {
     "data": {
      "text/plain": [
       "(-0.5, 27.5, 27.5, -0.5)"
      ]
     },
     "execution_count": 7,
     "metadata": {},
     "output_type": "execute_result"
    },
    {
     "data": {
      "image/png": "[encoded data removed]",
      "text/plain": [
       "<Figure size 432x288 with 1 Axes>"
      ]
     },
     "metadata": {
      "needs_background": "light"
     },
     "output_type": "display_data"
    }
   ],
   "source": [
    "s = np.random.randint(60000)\n",
    "\n",
    "a = list(y_train[s]).index(1)\n",
    "\n",
    "plt.imshow(x_train[s][:, :, 0], cmap = 'Greys')\n",
    "plt.title(a)\n",
    "plt.axis('off')"
   ]
  },
  {
   "cell_type": "markdown",
   "metadata": {},
   "source": [
    "## Create CNN Model"
   ]
  },
  {
   "cell_type": "code",
   "execution_count": 8,
   "metadata": {},
   "outputs": [],
   "source": [
    "CNN_layers = [Conv2D(28, (3, 3), input_shape=(28, 28, 1), padding='same', activation='relu', name='Conv_1'),\n",
    "              MaxPool2D(),\n",
    "              Conv2D(156, (3, 3), padding='same', activation='relu', name='Conv_2'),\n",
    "              MaxPool2D(),\n",
    "              Conv2D(268, (3, 3), padding='same', activation='relu', name='Conv_3'),\n",
    "              GlobalAveragePooling2D()]\n",
    "\n",
    "FC_layers = [Dense(units=138, activation='relu'),\n",
    "             Dense(units=10, activation='softmax')]"
   ]
  },
  {
   "cell_type": "code",
   "execution_count": 9,
   "metadata": {},
   "outputs": [
    {
     "name": "stdout",
     "output_type": "stream",
     "text": [
      "Model: \"sequential\"\n",
      "_________________________________________________________________\n",
      "Layer (type)                 Output Shape              Param #   \n",
      "=================================================================\n",
      "Conv_1 (Conv2D)              (None, 28, 28, 28)        280       \n",
      "_________________________________________________________________\n",
      "max_pooling2d (MaxPooling2D) (None, 14, 14, 28)        0         \n",
      "_________________________________________________________________\n",
      "Conv_2 (Conv2D)              (None, 14, 14, 156)       39468     \n",
      "_________________________________________________________________\n",
      "max_pooling2d_1 (MaxPooling2 (None, 7, 7, 156)         0         \n",
      "_________________________________________________________________\n",
      "Conv_3 (Conv2D)              (None, 7, 7, 268)         376540    \n",
      "_________________________________________________________________\n",
      "global_average_pooling2d (Gl (None, 268)               0         \n",
      "_________________________________________________________________\n",
      "dense (Dense)                (None, 138)               37122     \n",
      "_________________________________________________________________\n",
      "dense_1 (Dense)              (None, 10)                1390      \n",
      "=================================================================\n",
      "Total params: 454,800\n",
      "Trainable params: 454,800\n",
      "Non-trainable params: 0\n",
      "_________________________________________________________________\n"
     ]
    }
   ],
   "source": [
    "model = Sequential(CNN_layers + FC_layers)\n",
    "model.summary()"
   ]
  },
  {
   "cell_type": "markdown",
   "metadata": {},
   "source": [
    "## 編譯模型: 設定模型訓練時的設定\n",
    "* Optimizer: Adam\n",
    "* Loss: categorical cross-entropy"
   ]
  },
  {
   "cell_type": "code",
   "execution_count": 10,
   "metadata": {},
   "outputs": [],
   "source": [
    "model.compile(loss='categorical_crossentropy', \n",
    "              optimizer=Adam(),\n",
    "              metrics=['categorical_accuracy'])"
   ]
  },
  {
   "cell_type": "code",
   "execution_count": 11,
   "metadata": {},
   "outputs": [
    {
     "data": {
      "text/plain": [
       "[<tensorflow.python.keras.layers.convolutional.Conv2D at 0x2514ee96c88>,\n",
       " <tensorflow.python.keras.layers.pooling.MaxPooling2D at 0x2514e4e0cc0>,\n",
       " <tensorflow.python.keras.layers.convolutional.Conv2D at 0x2514eec20f0>,\n",
       " <tensorflow.python.keras.layers.pooling.MaxPooling2D at 0x2514eec22e8>,\n",
       " <tensorflow.python.keras.layers.convolutional.Conv2D at 0x2514eec2400>,\n",
       " <tensorflow.python.keras.layers.pooling.GlobalAveragePooling2D at 0x2514eec25f8>,\n",
       " <tensorflow.python.keras.layers.core.Dense at 0x2514ee96c50>,\n",
       " <tensorflow.python.keras.layers.core.Dense at 0x2514eec2898>]"
      ]
     },
     "execution_count": 11,
     "metadata": {},
     "output_type": "execute_result"
    }
   ],
   "source": [
    "model.layers"
   ]
  },
  {
   "cell_type": "code",
   "execution_count": 12,
   "metadata": {},
   "outputs": [
    {
     "name": "stdout",
     "output_type": "stream",
     "text": [
      "Train on 60000 samples, validate on 10000 samples\n",
      "Epoch 1/3\n",
      "60000/60000 [==============================] - 327s 5ms/sample - loss: 0.6715 - categorical_accuracy: 0.7814 - val_loss: 0.2249 - val_categorical_accuracy: 0.9323\n",
      "Epoch 2/3\n",
      "60000/60000 [==============================] - 303s 5ms/sample - loss: 0.1936 - categorical_accuracy: 0.9414 - val_loss: 0.1356 - val_categorical_accuracy: 0.9576\n",
      "Epoch 3/3\n",
      "60000/60000 [==============================] - 352s 6ms/sample - loss: 0.1274 - categorical_accuracy: 0.9612 - val_loss: 0.0993 - val_categorical_accuracy: 0.9686\n"
     ]
    },
    {
     "data": {
      "text/plain": [
       "<tensorflow.python.keras.callbacks.History at 0x2514f7f6940>"
      ]
     },
     "execution_count": 12,
     "metadata": {},
     "output_type": "execute_result"
    }
   ],
   "source": [
    "model.fit(x_train, y_train, batch_size=150, epochs=3, validation_data=(x_test, y_test) )"
   ]
  },
  {
   "cell_type": "code",
   "execution_count": 13,
   "metadata": {},
   "outputs": [],
   "source": [
    "model.save_weights('CNN_first.h5')"
   ]
  },
  {
   "cell_type": "markdown",
   "metadata": {},
   "source": [
    "## 模型預測: 預測資料集的準確率¶"
   ]
  },
  {
   "cell_type": "code",
   "execution_count": 14,
   "metadata": {},
   "outputs": [
    {
     "name": "stdout",
     "output_type": "stream",
     "text": [
      "60000/60000 [==============================] - 139s 2ms/sample - loss: 0.1081 - categorical_accuracy: 0.9671\n",
      "10000/10000 [==============================] - 22s 2ms/sample - loss: 0.0993 - categorical_accuracy: 0.9686\n",
      "Train Accuracy: 96.71499729156494\n",
      "Test Accuracy: 96.85999751091003\n"
     ]
    }
   ],
   "source": [
    "model.load_weights('CNN_first.h5')\n",
    "\n",
    "score_train = model.evaluate(x_train, y_train)\n",
    "score_test = model.evaluate(x_test, y_test)\n",
    "\n",
    "print(f'Train Accuracy: {score_train[1]*100}')\n",
    "print(f'Test Accuracy: {score_test[1]*100}')"
   ]
  },
  {
   "cell_type": "code",
   "execution_count": 15,
   "metadata": {},
   "outputs": [
    {
     "data": {
      "text/plain": [
       "[<tensorflow.python.keras.layers.convolutional.Conv2D at 0x2514ee96c88>,\n",
       " <tensorflow.python.keras.layers.pooling.MaxPooling2D at 0x2514e4e0cc0>,\n",
       " <tensorflow.python.keras.layers.convolutional.Conv2D at 0x2514eec20f0>,\n",
       " <tensorflow.python.keras.layers.pooling.MaxPooling2D at 0x2514eec22e8>,\n",
       " <tensorflow.python.keras.layers.convolutional.Conv2D at 0x2514eec2400>,\n",
       " <tensorflow.python.keras.layers.pooling.GlobalAveragePooling2D at 0x2514eec25f8>,\n",
       " <tensorflow.python.keras.layers.core.Dense at 0x2514ee96c50>,\n",
       " <tensorflow.python.keras.layers.core.Dense at 0x2514eec2898>]"
      ]
     },
     "execution_count": 15,
     "metadata": {},
     "output_type": "execute_result"
    }
   ],
   "source": [
    "model.layers"
   ]
  },
  {
   "cell_type": "markdown",
   "metadata": {},
   "source": [
    "## Transfer Learning"
   ]
  },
  {
   "cell_type": "code",
   "execution_count": 16,
   "metadata": {},
   "outputs": [],
   "source": [
    "(a_train, b_train), (a_test, b_test) = fashion_mnist.load_data()"
   ]
  },
  {
   "cell_type": "code",
   "execution_count": 17,
   "metadata": {},
   "outputs": [
    {
     "data": {
      "text/plain": [
       "(60000, 28, 28)"
      ]
     },
     "execution_count": 17,
     "metadata": {},
     "output_type": "execute_result"
    }
   ],
   "source": [
    "a_train.shape"
   ]
  },
  {
   "cell_type": "code",
   "execution_count": 22,
   "metadata": {},
   "outputs": [
    {
     "data": {
      "image/png": "[encoded data removed]",
      "text/plain": [
       "<Figure size 432x288 with 1 Axes>"
      ]
     },
     "metadata": {
      "needs_background": "light"
     },
     "output_type": "display_data"
    }
   ],
   "source": [
    "name_list = ['T-shirt/top', 'Trouser', 'Pullover', 'Dress', 'Coat','Sandal', 'Shirt', 'Sneaker', 'Bag', 'Ankle boot']\n",
    "idx = np.random.randint(a_train.shape[0])\n",
    "a_sample = a_train[idx]\n",
    "b_sample = b_train[idx].squeeze()\n",
    "plt.imshow(a_sample,'Greys')\n",
    "plt.title(name_list[b_sample])\n",
    "plt.axis('off');"
   ]
  },
  {
   "cell_type": "code",
   "execution_count": 23,
   "metadata": {},
   "outputs": [],
   "source": [
    "# Normalization\n",
    "a_train = a_train.reshape(60000, 28, 28, 1)/255 #色彩範圍為0到255所以要除於255\n",
    "a_test  = a_test.reshape(10000, 28, 28, 1)/255"
   ]
  },
  {
   "cell_type": "code",
   "execution_count": 24,
   "metadata": {},
   "outputs": [],
   "source": [
    "# One-hot encoding\n",
    "b_train = to_categorical(b_train, 10)\n",
    "b_test = to_categorical(b_test, 10)"
   ]
  },
  {
   "cell_type": "markdown",
   "metadata": {},
   "source": [
    "### CNN for mnist\n",
    "CNN_layers = [Conv2D(28, (3, 3), input_shape=(28, 28, 1), padding='same', activation='relu', name='Conv_1'),\n",
    "              MaxPool2D(),\n",
    "              Conv2D(156, (3, 3), padding='same', activation='relu', name='Conv_2'),\n",
    "              MaxPool2D(),\n",
    "              Conv2D(268, (3, 3), padding='same', activation='relu', name='Conv_3'),\n",
    "              GlobalAveragePooling2D()]\n",
    "\n",
    "FC_layers = [Dense(units=138, activation='relu'),\n",
    "             Dense(units=10, activation='softmax')]\n",
    "             \n",
    "### CNN for fashion_mnist\n",
    "\n",
    "* From CNN for mnist\n",
    "\n",
    "CNN_layers\n",
    "\n",
    "* New FC layers for fashion_mnist\n",
    "FC_layers_fashion = [Dense(units=223, activation='relu'),\n",
    "                   Dense(units=158, activation='relu'),\n",
    "                   Dense(units=84, activation='selu'),\n",
    "                   Dense(units=10, activation='softmax')]\n",
    "\n",
    "## The CNN layers are borrowed from the CNN for mnist model"
   ]
  },
  {
   "cell_type": "code",
   "execution_count": 26,
   "metadata": {},
   "outputs": [],
   "source": [
    "FC_layers_fashion = [Dense(units=223, activation='relu'),\n",
    "                   Dense(units=158, activation='relu'),\n",
    "                   Dense(units=10, activation='softmax')]"
   ]
  },
  {
   "cell_type": "code",
   "execution_count": 27,
   "metadata": {},
   "outputs": [
    {
     "name": "stdout",
     "output_type": "stream",
     "text": [
      "Model: \"sequential_1\"\n",
      "_________________________________________________________________\n",
      "Layer (type)                 Output Shape              Param #   \n",
      "=================================================================\n",
      "Conv_1 (Conv2D)              (None, 28, 28, 28)        280       \n",
      "_________________________________________________________________\n",
      "max_pooling2d (MaxPooling2D) (None, 14, 14, 28)        0         \n",
      "_________________________________________________________________\n",
      "Conv_2 (Conv2D)              (None, 14, 14, 156)       39468     \n",
      "_________________________________________________________________\n",
      "max_pooling2d_1 (MaxPooling2 (None, 7, 7, 156)         0         \n",
      "_________________________________________________________________\n",
      "Conv_3 (Conv2D)              (None, 7, 7, 268)         376540    \n",
      "_________________________________________________________________\n",
      "global_average_pooling2d (Gl (None, 268)               0         \n",
      "_________________________________________________________________\n",
      "dense_6 (Dense)              (None, 223)               59987     \n",
      "_________________________________________________________________\n",
      "dense_7 (Dense)              (None, 158)               35392     \n",
      "_________________________________________________________________\n",
      "dense_8 (Dense)              (None, 10)                1590      \n",
      "=================================================================\n",
      "Total params: 513,257\n",
      "Trainable params: 513,257\n",
      "Non-trainable params: 0\n",
      "_________________________________________________________________\n"
     ]
    }
   ],
   "source": [
    "model_fashion = Sequential(CNN_layers+FC_layers_fashion)\n",
    "model_fashion.summary()"
   ]
  },
  {
   "cell_type": "markdown",
   "metadata": {},
   "source": [
    "## 遷移學習的訓練方式\n",
    "* Fine-tune: 新資料集的樣本數夠多，整個模型重新訓練\n",
    "* Frozen: 當新資料集的樣本數不夠多，凍結借來的部分，只針對新建立的神經網路層訓練"
   ]
  },
  {
   "cell_type": "code",
   "execution_count": 28,
   "metadata": {},
   "outputs": [],
   "source": [
    "# Frozen\n",
    "for layer in CNN_layers:\n",
    "    layer.trainable = False"
   ]
  },
  {
   "cell_type": "code",
   "execution_count": 29,
   "metadata": {},
   "outputs": [
    {
     "name": "stdout",
     "output_type": "stream",
     "text": [
      "Model: \"sequential_1\"\n",
      "_________________________________________________________________\n",
      "Layer (type)                 Output Shape              Param #   \n",
      "=================================================================\n",
      "Conv_1 (Conv2D)              (None, 28, 28, 28)        280       \n",
      "_________________________________________________________________\n",
      "max_pooling2d (MaxPooling2D) (None, 14, 14, 28)        0         \n",
      "_________________________________________________________________\n",
      "Conv_2 (Conv2D)              (None, 14, 14, 156)       39468     \n",
      "_________________________________________________________________\n",
      "max_pooling2d_1 (MaxPooling2 (None, 7, 7, 156)         0         \n",
      "_________________________________________________________________\n",
      "Conv_3 (Conv2D)              (None, 7, 7, 268)         376540    \n",
      "_________________________________________________________________\n",
      "global_average_pooling2d (Gl (None, 268)               0         \n",
      "_________________________________________________________________\n",
      "dense_6 (Dense)              (None, 223)               59987     \n",
      "_________________________________________________________________\n",
      "dense_7 (Dense)              (None, 158)               35392     \n",
      "_________________________________________________________________\n",
      "dense_8 (Dense)              (None, 10)                1590      \n",
      "=================================================================\n",
      "Total params: 513,257\n",
      "Trainable params: 96,969\n",
      "Non-trainable params: 416,288\n",
      "_________________________________________________________________\n"
     ]
    }
   ],
   "source": [
    "model_fashion.summary()\n"
   ]
  },
  {
   "cell_type": "code",
   "execution_count": 30,
   "metadata": {},
   "outputs": [],
   "source": [
    "model_fashion.compile(loss='categorical_crossentropy', optimizer=Adam(), metrics=['categorical_accuracy'])\n"
   ]
  },
  {
   "cell_type": "code",
   "execution_count": 31,
   "metadata": {},
   "outputs": [
    {
     "name": "stdout",
     "output_type": "stream",
     "text": [
      "Train on 60000 samples, validate on 10000 samples\n",
      "Epoch 1/10\n",
      "60000/60000 [==============================] - 169s 3ms/sample - loss: 0.8729 - categorical_accuracy: 0.6827 - val_loss: 0.6727 - val_categorical_accuracy: 0.7537\n",
      "Epoch 2/10\n",
      "60000/60000 [==============================] - 169s 3ms/sample - loss: 0.6372 - categorical_accuracy: 0.7624 - val_loss: 0.6355 - val_categorical_accuracy: 0.7554\n",
      "Epoch 3/10\n",
      "60000/60000 [==============================] - 167s 3ms/sample - loss: 0.5769 - categorical_accuracy: 0.7830 - val_loss: 0.5751 - val_categorical_accuracy: 0.7937\n",
      "Epoch 4/10\n",
      "60000/60000 [==============================] - 153s 3ms/sample - loss: 0.5383 - categorical_accuracy: 0.8005 - val_loss: 0.5426 - val_categorical_accuracy: 0.8027\n",
      "Epoch 5/10\n",
      "60000/60000 [==============================] - 156s 3ms/sample - loss: 0.5152 - categorical_accuracy: 0.8096 - val_loss: 0.5170 - val_categorical_accuracy: 0.8051\n",
      "Epoch 6/10\n",
      "60000/60000 [==============================] - 152s 3ms/sample - loss: 0.4953 - categorical_accuracy: 0.8173 - val_loss: 0.5549 - val_categorical_accuracy: 0.7884\n",
      "Epoch 7/10\n",
      "60000/60000 [==============================] - 158s 3ms/sample - loss: 0.4849 - categorical_accuracy: 0.8209 - val_loss: 0.5203 - val_categorical_accuracy: 0.8078\n",
      "Epoch 8/10\n",
      "60000/60000 [==============================] - 157s 3ms/sample - loss: 0.4724 - categorical_accuracy: 0.8251 - val_loss: 0.5100 - val_categorical_accuracy: 0.8068\n",
      "Epoch 9/10\n",
      "60000/60000 [==============================] - 161s 3ms/sample - loss: 0.4595 - categorical_accuracy: 0.8300 - val_loss: 0.5377 - val_categorical_accuracy: 0.8044\n",
      "Epoch 10/10\n",
      "60000/60000 [==============================] - 154s 3ms/sample - loss: 0.4483 - categorical_accuracy: 0.8340 - val_loss: 0.4708 - val_categorical_accuracy: 0.8289\n"
     ]
    },
    {
     "data": {
      "text/plain": [
       "<tensorflow.python.keras.callbacks.History at 0x251078910b8>"
      ]
     },
     "execution_count": 31,
     "metadata": {},
     "output_type": "execute_result"
    }
   ],
   "source": [
    "model_fashion.fit(a_train, b_train, batch_size=300, epochs=10, validation_data=(a_test, b_test))"
   ]
  },
  {
   "cell_type": "code",
   "execution_count": 32,
   "metadata": {},
   "outputs": [
    {
     "name": "stdout",
     "output_type": "stream",
     "text": [
      "60000/60000 [==============================] - 128s 2ms/sample - loss: 0.1081 - categorical_accuracy: 0.9671\n",
      "10000/10000 [==============================] - 20s 2ms/sample - loss: 0.0993 - categorical_accuracy: 0.9686\n",
      "Train Accuracy: 96.71499729156494\n",
      "Test Accuracy: 96.85999751091003\n"
     ]
    }
   ],
   "source": [
    "score_train = model.evaluate(x_train, y_train)\n",
    "score_test = model.evaluate(x_test, y_test)\n",
    "\n",
    "print(f'Train Accuracy: {score_train[1]*100}')\n",
    "print(f'Test Accuracy: {score_test[1]*100}')"
   ]
  },
  {
   "cell_type": "markdown",
   "metadata": {},
   "source": [
    "### Q: Is the borrowed NN be affected? (Frozen situation)\n",
    "### Ans: No."
   ]
  },
  {
   "cell_type": "code",
   "execution_count": 33,
   "metadata": {},
   "outputs": [],
   "source": [
    "# Fine-tune\n",
    "for layer in CNN_layers:\n",
    "    layer.trainable = True"
   ]
  },
  {
   "cell_type": "code",
   "execution_count": 34,
   "metadata": {},
   "outputs": [
    {
     "name": "stdout",
     "output_type": "stream",
     "text": [
      "Model: \"sequential_1\"\n",
      "_________________________________________________________________\n",
      "Layer (type)                 Output Shape              Param #   \n",
      "=================================================================\n",
      "Conv_1 (Conv2D)              (None, 28, 28, 28)        280       \n",
      "_________________________________________________________________\n",
      "max_pooling2d (MaxPooling2D) (None, 14, 14, 28)        0         \n",
      "_________________________________________________________________\n",
      "Conv_2 (Conv2D)              (None, 14, 14, 156)       39468     \n",
      "_________________________________________________________________\n",
      "max_pooling2d_1 (MaxPooling2 (None, 7, 7, 156)         0         \n",
      "_________________________________________________________________\n",
      "Conv_3 (Conv2D)              (None, 7, 7, 268)         376540    \n",
      "_________________________________________________________________\n",
      "global_average_pooling2d (Gl (None, 268)               0         \n",
      "_________________________________________________________________\n",
      "dense_6 (Dense)              (None, 223)               59987     \n",
      "_________________________________________________________________\n",
      "dense_7 (Dense)              (None, 158)               35392     \n",
      "_________________________________________________________________\n",
      "dense_8 (Dense)              (None, 10)                1590      \n",
      "=================================================================\n",
      "WARNING:tensorflow:Discrepancy between trainable weights and collected trainable weights, did you set `model.trainable` without calling `model.compile` after ?\n",
      "Total params: 96,969\n",
      "Trainable params: 96,969\n",
      "Non-trainable params: 0\n",
      "_________________________________________________________________\n"
     ]
    }
   ],
   "source": [
    "model_fashion.summary()\n"
   ]
  },
  {
   "cell_type": "code",
   "execution_count": 35,
   "metadata": {},
   "outputs": [
    {
     "name": "stdout",
     "output_type": "stream",
     "text": [
      "Train on 60000 samples, validate on 10000 samples\n",
      "Epoch 1/5\n",
      "60000/60000 [==============================] - 163s 3ms/sample - loss: 0.4306 - categorical_accuracy: 0.8409 - val_loss: 0.4597 - val_categorical_accuracy: 0.8287\n",
      "Epoch 2/5\n",
      "60000/60000 [==============================] - 147s 2ms/sample - loss: 0.4240 - categorical_accuracy: 0.8435 - val_loss: 0.4686 - val_categorical_accuracy: 0.8262\n",
      "Epoch 3/5\n",
      "60000/60000 [==============================] - 171s 3ms/sample - loss: 0.4185 - categorical_accuracy: 0.8447 - val_loss: 0.4521 - val_categorical_accuracy: 0.8375\n",
      "Epoch 4/5\n",
      "60000/60000 [==============================] - 176s 3ms/sample - loss: 0.4156 - categorical_accuracy: 0.8447 - val_loss: 0.4428 - val_categorical_accuracy: 0.8376\n",
      "Epoch 5/5\n",
      "60000/60000 [==============================] - 184s 3ms/sample - loss: 0.4067 - categorical_accuracy: 0.8501 - val_loss: 0.4496 - val_categorical_accuracy: 0.8361\n"
     ]
    },
    {
     "data": {
      "text/plain": [
       "<tensorflow.python.keras.callbacks.History at 0x25123735320>"
      ]
     },
     "execution_count": 35,
     "metadata": {},
     "output_type": "execute_result"
    }
   ],
   "source": [
    "model_fashion.fit(a_train, b_train, batch_size=400, \n",
    "                epochs=5,\n",
    "                validation_data=(a_test, b_test))"
   ]
  },
  {
   "cell_type": "code",
   "execution_count": 36,
   "metadata": {},
   "outputs": [
    {
     "name": "stdout",
     "output_type": "stream",
     "text": [
      "60000/60000 [==============================] - 147s 2ms/sample - loss: 0.1081 - categorical_accuracy: 0.9671\n",
      "10000/10000 [==============================] - 27s 3ms/sample - loss: 0.0993 - categorical_accuracy: 0.9686\n",
      "Train Accuracy: 96.71499729156494\n",
      "Test Accuracy: 96.85999751091003\n"
     ]
    }
   ],
   "source": [
    "score_train = model.evaluate(x_train, y_train)\n",
    "score_test = model.evaluate(x_test, y_test)\n",
    "\n",
    "print(f'Train Accuracy: {score_train[1]*100}')\n",
    "print(f'Test Accuracy: {score_test[1]*100}')"
   ]
  },
  {
   "cell_type": "markdown",
   "metadata": {},
   "source": [
    "### Q: Is the borrowed NN be affected? (Fine-tune situation)\n",
    "### Ans: No"
   ]
  },
  {
   "cell_type": "code",
   "execution_count": null,
   "metadata": {},
   "outputs": [],
   "source": []
  }
 ],
 "metadata": {
  "kernelspec": {
   "display_name": "Python 3",
   "language": "python",
   "name": "python3"
  },
  "language_info": {
   "codemirror_mode": {
    "name": "ipython",
    "version": 3
   },
   "file_extension": ".py",
   "mimetype": "text/x-python",
   "name": "python",
   "nbconvert_exporter": "python",
   "pygments_lexer": "ipython3",
   "version": "3.7.3"
  }
 },
 "nbformat": 4,
 "nbformat_minor": 2
}
