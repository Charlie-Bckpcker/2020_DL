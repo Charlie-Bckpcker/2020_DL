{
  "nbformat": 4,
  "nbformat_minor": 0,
  "metadata": {
    "colab": {
      "name": "Functional API_HW.ipynb",
      "provenance": [],
      "collapsed_sections": [],
      "authorship_tag": "ABX9TyOzMnDcWs8eVM/aYqGZwLYD",
      "include_colab_link": true
    },
    "kernelspec": {
      "name": "python3",
      "display_name": "Python 3"
    },
    "accelerator": "GPU"
  },
  "cells": [
    {
      "cell_type": "markdown",
      "metadata": {
        "id": "view-in-github",
        "colab_type": "text"
      },
      "source": [
        "<a href=\"https://colab.research.google.com/github/Charlie-Bckpcker/2020_DL/blob/master/Functional_API_HW.ipynb\" target=\"_parent\"><img src=\"https://colab.research.google.com/assets/colab-badge.svg\" alt=\"Open In Colab\"/></a>"
      ]
    },
    {
      "cell_type": "code",
      "metadata": {
        "id": "g-EpkZGgpfYa",
        "colab_type": "code",
        "colab": {}
      },
      "source": [
        "# Import some useful packages\n",
        "import matplotlib.pyplot as plt\n",
        "import numpy as np\n",
        "\n",
        "# Layers for FNN\n",
        "from tensorflow.keras.models import Sequential, Model\n",
        "from tensorflow.keras.layers import Dense, Flatten, Input, concatenate, add\n",
        "\n",
        "# Layers for CNN\n",
        "from tensorflow.keras.layers import Conv2D, MaxPooling2D, GlobalAveragePooling2D\n",
        "\n",
        "from tensorflow.keras import datasets\n",
        "from tensorflow.keras.optimizers import SGD, Adam\n",
        "\n",
        "# For data preprocessing\n",
        "from tensorflow.keras.datasets import mnist\n",
        "from tensorflow.keras.utils import to_categorical, plot_model"
      ],
      "execution_count": 0,
      "outputs": []
    },
    {
      "cell_type": "code",
      "metadata": {
        "id": "JacsXEn1rzB_",
        "colab_type": "code",
        "colab": {
          "base_uri": "https://localhost:8080/",
          "height": 51
        },
        "outputId": "f01511c4-b1f4-4f28-ef0c-9c653516862b"
      },
      "source": [
        "(x_train, y_train), (x_test, y_test) = datasets.mnist.load_data()\n"
      ],
      "execution_count": 2,
      "outputs": [
        {
          "output_type": "stream",
          "text": [
            "Downloading data from https://storage.googleapis.com/tensorflow/tf-keras-datasets/mnist.npz\n",
            "11493376/11490434 [==============================] - 0s 0us/step\n"
          ],
          "name": "stdout"
        }
      ]
    },
    {
      "cell_type": "code",
      "metadata": {
        "id": "UEzx7mdur0rR",
        "colab_type": "code",
        "colab": {}
      },
      "source": [
        "# Normalization\n",
        "x_train = x_train / 255\n",
        "x_test = x_test / 255"
      ],
      "execution_count": 0,
      "outputs": []
    },
    {
      "cell_type": "code",
      "metadata": {
        "id": "s5RwDoU0r3sV",
        "colab_type": "code",
        "colab": {}
      },
      "source": [
        "# Reshape \n",
        "x_train = x_train.reshape(60000, 28, 28, 1)\n",
        "x_test = x_test.reshape(10000, 28, 28, 1)\n"
      ],
      "execution_count": 0,
      "outputs": []
    },
    {
      "cell_type": "code",
      "metadata": {
        "id": "zqIRyVKMr4Zr",
        "colab_type": "code",
        "colab": {}
      },
      "source": [
        "# One-hot encoding\n",
        "y_train = to_categorical(y_train, 10)\n",
        "y_test = to_categorical(y_test, 10)"
      ],
      "execution_count": 0,
      "outputs": []
    },
    {
      "cell_type": "markdown",
      "metadata": {
        "id": "7lptYxehr4iX",
        "colab_type": "text"
      },
      "source": [
        "## Functional API¶"
      ]
    },
    {
      "cell_type": "code",
      "metadata": {
        "id": "J8mQbZM3r4o7",
        "colab_type": "code",
        "colab": {
          "base_uri": "https://localhost:8080/",
          "height": 34
        },
        "outputId": "0a61e99d-92cb-44ff-af76-27905c737815"
      },
      "source": [
        "x = Input(shape=(28, 28, 1))\n",
        "print(x)"
      ],
      "execution_count": 6,
      "outputs": [
        {
          "output_type": "stream",
          "text": [
            "Tensor(\"input_1:0\", shape=(None, 28, 28, 1), dtype=float32)\n"
          ],
          "name": "stdout"
        }
      ]
    },
    {
      "cell_type": "code",
      "metadata": {
        "id": "NR8YbRCKr4l8",
        "colab_type": "code",
        "colab": {}
      },
      "source": [
        "conv1 = Conv2D(64, (5,5), padding='same', activation='relu')(x)\n",
        "pool1 = MaxPooling2D(pool_size=(2,2))(conv1)\n",
        "flatten1 = Flatten()(pool1)"
      ],
      "execution_count": 0,
      "outputs": []
    },
    {
      "cell_type": "code",
      "metadata": {
        "id": "mjotHuFisEi4",
        "colab_type": "code",
        "colab": {}
      },
      "source": [
        "conv2 = Conv2D(128, (5,5), padding='same', activation='relu')(x)\n",
        "pool2 = MaxPooling2D(pool_size=(2,2))(conv2)\n",
        "flatten2 = Flatten()(pool2)"
      ],
      "execution_count": 0,
      "outputs": []
    },
    {
      "cell_type": "code",
      "metadata": {
        "id": "wrD483u9sGHF",
        "colab_type": "code",
        "colab": {}
      },
      "source": [
        "c = concatenate([flatten1,flatten2])\n"
      ],
      "execution_count": 0,
      "outputs": []
    },
    {
      "cell_type": "code",
      "metadata": {
        "id": "inGYbXT3sHx1",
        "colab_type": "code",
        "colab": {}
      },
      "source": [
        "L1 = Dense(500, activation='sigmoid')\n",
        "L2 = Dense(300, activation='sigmoid')\n",
        "L3 = Dense(10, activation='softmax')"
      ],
      "execution_count": 0,
      "outputs": []
    },
    {
      "cell_type": "code",
      "metadata": {
        "id": "ccv7xAOusJPC",
        "colab_type": "code",
        "colab": {
          "base_uri": "https://localhost:8080/",
          "height": 34
        },
        "outputId": "1793d44f-af9a-490b-9b04-9feba97edb98"
      },
      "source": [
        "V1 = L1(c)\n",
        "V2 = L2(V1)\n",
        "y = L3(V2)\n",
        "print(y)"
      ],
      "execution_count": 11,
      "outputs": [
        {
          "output_type": "stream",
          "text": [
            "Tensor(\"dense_2/Identity:0\", shape=(None, 10), dtype=float32)\n"
          ],
          "name": "stdout"
        }
      ]
    },
    {
      "cell_type": "code",
      "metadata": {
        "id": "KJRq2mpmsKql",
        "colab_type": "code",
        "colab": {
          "base_uri": "https://localhost:8080/",
          "height": 544
        },
        "outputId": "da7e431c-d04a-45cd-a69b-57a6cee8179f"
      },
      "source": [
        "model = Model(x,y)\n",
        "model.summary()\n"
      ],
      "execution_count": 12,
      "outputs": [
        {
          "output_type": "stream",
          "text": [
            "Model: \"model\"\n",
            "__________________________________________________________________________________________________\n",
            "Layer (type)                    Output Shape         Param #     Connected to                     \n",
            "==================================================================================================\n",
            "input_1 (InputLayer)            [(None, 28, 28, 1)]  0                                            \n",
            "__________________________________________________________________________________________________\n",
            "conv2d (Conv2D)                 (None, 28, 28, 64)   1664        input_1[0][0]                    \n",
            "__________________________________________________________________________________________________\n",
            "conv2d_1 (Conv2D)               (None, 28, 28, 128)  3328        input_1[0][0]                    \n",
            "__________________________________________________________________________________________________\n",
            "max_pooling2d (MaxPooling2D)    (None, 14, 14, 64)   0           conv2d[0][0]                     \n",
            "__________________________________________________________________________________________________\n",
            "max_pooling2d_1 (MaxPooling2D)  (None, 14, 14, 128)  0           conv2d_1[0][0]                   \n",
            "__________________________________________________________________________________________________\n",
            "flatten (Flatten)               (None, 12544)        0           max_pooling2d[0][0]              \n",
            "__________________________________________________________________________________________________\n",
            "flatten_1 (Flatten)             (None, 25088)        0           max_pooling2d_1[0][0]            \n",
            "__________________________________________________________________________________________________\n",
            "concatenate (Concatenate)       (None, 37632)        0           flatten[0][0]                    \n",
            "                                                                 flatten_1[0][0]                  \n",
            "__________________________________________________________________________________________________\n",
            "dense (Dense)                   (None, 500)          18816500    concatenate[0][0]                \n",
            "__________________________________________________________________________________________________\n",
            "dense_1 (Dense)                 (None, 300)          150300      dense[0][0]                      \n",
            "__________________________________________________________________________________________________\n",
            "dense_2 (Dense)                 (None, 10)           3010        dense_1[0][0]                    \n",
            "==================================================================================================\n",
            "Total params: 18,974,802\n",
            "Trainable params: 18,974,802\n",
            "Non-trainable params: 0\n",
            "__________________________________________________________________________________________________\n"
          ],
          "name": "stdout"
        }
      ]
    },
    {
      "cell_type": "code",
      "metadata": {
        "id": "vQLJ9cBUsMx8",
        "colab_type": "code",
        "colab": {}
      },
      "source": [
        "model.compile(loss='mse', optimizer=Adam(), metrics=['accuracy'])\n"
      ],
      "execution_count": 0,
      "outputs": []
    },
    {
      "cell_type": "code",
      "metadata": {
        "id": "i-4aXDLgsPmD",
        "colab_type": "code",
        "colab": {
          "base_uri": "https://localhost:8080/",
          "height": 306
        },
        "outputId": "c70e9c2f-e366-480b-fa60-3dfa8eecc889"
      },
      "source": [
        "model.fit(x_train, y_train, batch_size=200, epochs=8, validation_data=(x_test,y_test))\n"
      ],
      "execution_count": 14,
      "outputs": [
        {
          "output_type": "stream",
          "text": [
            "Epoch 1/8\n",
            "300/300 [==============================] - 15s 49ms/step - loss: 0.0134 - accuracy: 0.9087 - val_loss: 0.0038 - val_accuracy: 0.9755\n",
            "Epoch 2/8\n",
            "300/300 [==============================] - 15s 48ms/step - loss: 0.0028 - accuracy: 0.9827 - val_loss: 0.0022 - val_accuracy: 0.9848\n",
            "Epoch 3/8\n",
            "300/300 [==============================] - 15s 48ms/step - loss: 0.0018 - accuracy: 0.9890 - val_loss: 0.0020 - val_accuracy: 0.9869\n",
            "Epoch 4/8\n",
            "300/300 [==============================] - 14s 48ms/step - loss: 0.0013 - accuracy: 0.9923 - val_loss: 0.0017 - val_accuracy: 0.9890\n",
            "Epoch 5/8\n",
            "300/300 [==============================] - 15s 48ms/step - loss: 9.5048e-04 - accuracy: 0.9939 - val_loss: 0.0018 - val_accuracy: 0.9891\n",
            "Epoch 6/8\n",
            "300/300 [==============================] - 15s 48ms/step - loss: 6.9730e-04 - accuracy: 0.9960 - val_loss: 0.0017 - val_accuracy: 0.9880\n",
            "Epoch 7/8\n",
            "300/300 [==============================] - 15s 48ms/step - loss: 5.6466e-04 - accuracy: 0.9967 - val_loss: 0.0015 - val_accuracy: 0.9911\n",
            "Epoch 8/8\n",
            "300/300 [==============================] - 15s 48ms/step - loss: 4.6403e-04 - accuracy: 0.9975 - val_loss: 0.0016 - val_accuracy: 0.9898\n"
          ],
          "name": "stdout"
        },
        {
          "output_type": "execute_result",
          "data": {
            "text/plain": [
              "<tensorflow.python.keras.callbacks.History at 0x7f711045fd68>"
            ]
          },
          "metadata": {
            "tags": []
          },
          "execution_count": 14
        }
      ]
    },
    {
      "cell_type": "code",
      "metadata": {
        "id": "BORaJtZysTh5",
        "colab_type": "code",
        "colab": {}
      },
      "source": [
        "result = model.predict(x_test)\n"
      ],
      "execution_count": 0,
      "outputs": []
    },
    {
      "cell_type": "code",
      "metadata": {
        "id": "gcWcSbMEsW5v",
        "colab_type": "code",
        "colab": {
          "base_uri": "https://localhost:8080/",
          "height": 34
        },
        "outputId": "0c1f3b76-d556-45d6-f5e3-df4527e4dd20"
      },
      "source": [
        "loss, acc = model.evaluate(x_test, y_test)\n"
      ],
      "execution_count": 16,
      "outputs": [
        {
          "output_type": "stream",
          "text": [
            "313/313 [==============================] - 2s 6ms/step - loss: 0.0016 - accuracy: 0.9898\n"
          ],
          "name": "stdout"
        }
      ]
    },
    {
      "cell_type": "code",
      "metadata": {
        "id": "zy2s-yMysZiV",
        "colab_type": "code",
        "colab": {
          "base_uri": "https://localhost:8080/",
          "height": 51
        },
        "outputId": "67a8c3c7-c720-49ad-e612-12ea98d3fa94"
      },
      "source": [
        "print(f\"loss: {loss: .3f}\\naccuracy rate: {acc * 100: .2f}%\")\n"
      ],
      "execution_count": 17,
      "outputs": [
        {
          "output_type": "stream",
          "text": [
            "loss:  0.002\n",
            "accuracy rate:  98.98%\n"
          ],
          "name": "stdout"
        }
      ]
    },
    {
      "cell_type": "code",
      "metadata": {
        "id": "4LgA4ditsbtz",
        "colab_type": "code",
        "colab": {}
      },
      "source": [
        "model.save_weights('mnist_functionAPI_model.h5')\n"
      ],
      "execution_count": 0,
      "outputs": []
    }
  ]
}